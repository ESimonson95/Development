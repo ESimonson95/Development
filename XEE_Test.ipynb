{
 "cells": [
  {
   "cell_type": "code",
   "execution_count": null,
   "id": "0629abc8-5964-4e9e-9d4f-9acbe0459d61",
   "metadata": {},
   "outputs": [],
   "source": [
    "# Import Libraries\n",
    "import ee\n",
    "import xarray as xr"
   ]
  },
  {
   "cell_type": "code",
   "execution_count": null,
   "id": "ae1a4d26-f314-4d41-aa35-75330d41ce51",
   "metadata": {},
   "outputs": [],
   "source": [
    "# Initialize the high volume endpoint\n",
    "ee.Initialize(opt_url='https://earthengine-highvolume.googleapis.com')"
   ]
  },
  {
   "cell_type": "code",
   "execution_count": null,
   "id": "32f3a709-0175-41a4-b12d-bba52e5af9db",
   "metadata": {},
   "outputs": [],
   "source": [
    "# define an area of interest with ee.Geometry()\n",
    "min_lon = -85.01057642885421 \n",
    "min_lat = 29.93916509457158 \n",
    "max_lon = -84.53816431947921\n",
    "max_lat = 30.24571892569066\n",
    "poly = ee.Geometry.Rectangle(min_lon, min_lat, max_lon, max_lat)"
   ]
  },
  {
   "cell_type": "code",
   "execution_count": null,
   "id": "06d5f426-5818-4b54-8305-5f58a02f5bce",
   "metadata": {},
   "outputs": [],
   "source": [
    "# Search for Landsat 8 data\n",
    "l8_gee = ee.ImageCollection('LANDSAT/LC08/C02/T1_L2').filterDate('2020-01-01', '2020-06-01')"
   ]
  },
  {
   "cell_type": "code",
   "execution_count": null,
   "id": "74a653e9-0e13-4777-81bc-e093a35a9995",
   "metadata": {},
   "outputs": [],
   "source": [
    "# Open the image collection as an xarray\n",
    "ds = xr.open_dataset(l8_gee, engine='ee', crs='EPSG:4326', geometry=poly)\n",
    "ds"
   ]
  }
 ],
 "metadata": {
  "kernelspec": {
   "display_name": "Modeling",
   "language": "python",
   "name": "modeling"
  },
  "language_info": {
   "codemirror_mode": {
    "name": "ipython",
    "version": 3
   },
   "file_extension": ".py",
   "mimetype": "text/x-python",
   "name": "python",
   "nbconvert_exporter": "python",
   "pygments_lexer": "ipython3",
   "version": "3.9.16"
  }
 },
 "nbformat": 4,
 "nbformat_minor": 5
}
